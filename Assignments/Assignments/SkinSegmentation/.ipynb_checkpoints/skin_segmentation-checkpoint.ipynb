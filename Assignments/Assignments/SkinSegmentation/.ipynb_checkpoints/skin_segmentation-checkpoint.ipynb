{
 "cells": [
  {
   "cell_type": "markdown",
   "id": "54cfe36a",
   "metadata": {},
   "source": [
    "# Skin segmentation"
   ]
  },
  {
   "cell_type": "markdown",
   "id": "428d02b7",
   "metadata": {},
   "source": [
    "In this assignement you will train classifier to assign colors to skin or no skin classes. The data is taken from [Skin Segmentation Data Set](http://archive.ics.uci.edu/ml/datasets/Skin+Segmentation#) in the UCI Machine Learning repository."
   ]
  },
  {
   "cell_type": "markdown",
   "id": "a1585ad4",
   "metadata": {},
   "source": [
    "The  data is in a plain text format and contains four columns. First three contain RGB color data  represented as integers in the range 0-255, and the last column is an integer label  with 1 representing skin and 2 representing no skin. This file we can load directly into a numpy array:"
   ]
  },
  {
   "cell_type": "code",
   "execution_count": 1,
   "id": "57c50b7c",
   "metadata": {},
   "outputs": [],
   "source": [
    "import numpy as np\n",
    "import matplotlib.pyplot as plt\n",
    "import torch\n",
    "from torch import nn"
   ]
  },
  {
   "cell_type": "code",
   "execution_count": 2,
   "id": "0c41ad03",
   "metadata": {},
   "outputs": [],
   "source": [
    "data = np.loadtxt('data/Skin_NonSkin.txt')"
   ]
  },
  {
   "cell_type": "code",
   "execution_count": 3,
   "id": "496d5ff9",
   "metadata": {},
   "outputs": [],
   "source": [
    "rgb  = data[:,:3].astype('float32')\n",
    "lbl = data[:,3].astype('float32') \n",
    "lbl = 2-lbl # 1-skin, 0-not skin; >0.5 rcognized as skin"
   ]
  },
  {
   "cell_type": "code",
   "execution_count": 4,
   "id": "16eeeeca",
   "metadata": {},
   "outputs": [
    {
     "data": {
      "text/plain": [
       "245057"
      ]
     },
     "execution_count": 4,
     "metadata": {},
     "output_type": "execute_result"
    }
   ],
   "source": [
    "len(data)"
   ]
  },
  {
   "cell_type": "code",
   "execution_count": 5,
   "id": "e95b6656",
   "metadata": {},
   "outputs": [
    {
     "data": {
      "text/plain": [
       "array([194198,  50859])"
      ]
     },
     "execution_count": 5,
     "metadata": {},
     "output_type": "execute_result"
    }
   ],
   "source": [
    "np.bincount(lbl.astype('int32'))"
   ]
  },
  {
   "cell_type": "markdown",
   "id": "4e88b6f4",
   "metadata": {},
   "source": [
    "## Problem 1"
   ]
  },
  {
   "cell_type": "markdown",
   "id": "b7b733fd",
   "metadata": {},
   "source": [
    "Train the neural network to distinguish skin from no skin colors. Calculate the accuracy on train and validation sets. Calculate true positives rate and false positives rate."
   ]
  },
  {
   "cell_type": "code",
   "execution_count": 6,
   "id": "f06e5ba6-3f73-4878-8b93-a1abb3a6537a",
   "metadata": {},
   "outputs": [],
   "source": [
    "model = nn.Sequential(\n",
    "    nn.Linear(3, 30), # transforms incoming 3 features into output of 30 features\n",
    "    nn.ReLU(), # Applies the rectified linear unit function element-wise\n",
    "    nn.Linear(30, 60),\n",
    "    nn.ReLU(),\n",
    "    nn.Linear(60, 20),\n",
    "    nn.ReLU(),\n",
    "    nn.Linear(20, 1),\n",
    "    nn.Sigmoid() # Applies the element-wise function\n",
    ")"
   ]
  },
  {
   "cell_type": "code",
   "execution_count": 7,
   "id": "dd503a7a-96a9-43ae-ac63-5c49c406b1a0",
   "metadata": {},
   "outputs": [],
   "source": [
    "params = {\n",
    "    'batch_size': 600,\n",
    "    'num_workers': 10, #multi-process data loading\n",
    "}\n",
    "\n",
    "# data to pytorch Tensors\n",
    "x_data = torch.from_numpy(rgb)\n",
    "y_data = torch.from_numpy(lbl)\n",
    "\n",
    "dataset = torch.utils.data.TensorDataset(x_data, y_data)\n",
    "training_dataset, test_dataset = torch.utils.data.random_split(dataset, [179652, 65405])\n",
    "training_generator = torch.utils.data.DataLoader(training_dataset, **params) \n",
    "test_generator = torch.utils.data.DataLoader(test_dataset, **params)\n",
    "\n",
    "# np.bincount(training_dataset)"
   ]
  },
  {
   "cell_type": "code",
   "execution_count": 8,
   "id": "5b6ef14e-a5d6-4054-a6a6-7a48e8a95a5d",
   "metadata": {},
   "outputs": [],
   "source": [
    "optimizer=torch.optim.SGD(model.parameters(), lr = 0.003)\n",
    "# loss_fn = nn.BCEWithLogitsLoss() #gdyby w modelu nie było sigmoid na końcu\n",
    "loss_fn = nn.BCELoss() # bo w modelu mamy sigmoid"
   ]
  },
  {
   "cell_type": "code",
   "execution_count": 9,
   "id": "baf35a0c-d997-4d4f-90a7-2d501505b980",
   "metadata": {},
   "outputs": [
    {
     "name": "stdout",
     "output_type": "stream",
     "text": [
      "Epoch 0 -> 0.08783978223800659\n",
      "Epoch 10 -> 0.037460893392562866\n",
      "Epoch 20 -> 0.03370210528373718\n",
      "Epoch 30 -> 0.03404580056667328\n",
      "Epoch 40 -> 0.03460589423775673\n",
      "Epoch 50 -> 0.035194605588912964\n",
      "Epoch 60 -> 0.03591861203312874\n",
      "Epoch 70 -> 0.036421261727809906\n",
      "Epoch 80 -> 0.03682304546236992\n",
      "Epoch 90 -> 0.03707297518849373\n",
      "CPU times: user 5min 8s, sys: 3min 16s, total: 8min 25s\n",
      "Wall time: 5min 29s\n"
     ]
    }
   ],
   "source": [
    "%%time\n",
    "epochs = 100\n",
    "train_loss = []\n",
    "test_acc_list = np.array([])\n",
    "\n",
    "for e in range(epochs):    \n",
    "    model.train() # setting model to training mode\n",
    "    \n",
    "    #training\n",
    "    for local_x, local_y in training_generator:    \n",
    "        optimizer.zero_grad()\n",
    "        output = model(local_x) #calling model(x)  instead of forward(x); outputs predictions\n",
    "        loss = loss_fn(output, local_y.reshape(-1, 1))\n",
    "        \n",
    "        loss.backward()\n",
    "        optimizer.step()\n",
    "    \n",
    "        train_loss.append(loss.item())\n",
    "           \n",
    "    if e % 10 == 0:\n",
    "        print(f\"Epoch {str(e)} -> {str(loss.item())}\")"
   ]
  },
  {
   "cell_type": "code",
   "execution_count": 10,
   "id": "94ed1b23-e093-4194-b0a0-1ae3cda7af1f",
   "metadata": {},
   "outputs": [],
   "source": [
    "from sklearn.metrics import confusion_matrix  \n",
    "fp_total = 0\n",
    "tp_total = 0"
   ]
  },
  {
   "cell_type": "code",
   "execution_count": 11,
   "id": "f092a1ad-d70c-48ec-8c4f-7f0d5cadaa60",
   "metadata": {},
   "outputs": [
    {
     "name": "stdout",
     "output_type": "stream",
     "text": [
      "acc =  tensor(0.9964)\n"
     ]
    }
   ],
   "source": [
    "model.eval()\n",
    "with torch.no_grad():\n",
    "    total=0\n",
    "    count=0\n",
    "    for local_x, local_y in test_generator:\n",
    "        local_y = local_y.reshape(-1, 1)\n",
    "        test_pred = model(local_x)\n",
    "        test_pred = (test_pred > 0.5)\n",
    "        total += torch.sum((test_pred == local_y ).type(torch.FloatTensor))\n",
    "        count += len(local_y)\n",
    "        tn, fp, fn, tp = confusion_matrix(local_y, test_pred, labels=[0, 1]).ravel()\n",
    "        tp_total += tp\n",
    "        fp_total += fp\n",
    "    \n",
    "    val_acc = total/count;\n",
    "    print('acc = ', val_acc)"
   ]
  },
  {
   "cell_type": "code",
   "execution_count": 12,
   "id": "468f8ff7-a923-4860-a345-72b1f1f32a73",
   "metadata": {},
   "outputs": [],
   "source": [
    "# print(model.state_dict())"
   ]
  },
  {
   "cell_type": "code",
   "execution_count": 13,
   "id": "aa9e557f-fd33-4b5d-93ed-c07f4a492c1e",
   "metadata": {},
   "outputs": [
    {
     "data": {
      "image/png": "[encoded data removed]",
      "text/plain": [
       "<Figure size 432x288 with 1 Axes>"
      ]
     },
     "metadata": {
      "needs_background": "light"
     },
     "output_type": "display_data"
    }
   ],
   "source": [
    "plt.plot(train_loss[5000:5500])\n",
    "plt.show()"
   ]
  },
  {
   "cell_type": "code",
   "execution_count": 14,
   "id": "5584022c-bb92-4c60-b5b9-3da2fbe11cab",
   "metadata": {},
   "outputs": [
    {
     "name": "stdout",
     "output_type": "stream",
     "text": [
      "67\n",
      "13474\n",
      "0.00494793589838269 %\n",
      "0.9950520641016173 %\n"
     ]
    }
   ],
   "source": [
    "print(fp_total) #false positive\n",
    "print(tp_total) #true positive\n",
    "\n",
    "total = fp_total + tp_total\n",
    "\n",
    "print(fp_total/total, \"%\") #false positive rate\n",
    "print(tp_total/total,\"%\") #true positive rate"
   ]
  },
  {
   "cell_type": "code",
   "execution_count": null,
   "id": "09db2e65-7dcf-4446-9dc2-0c5e5ceb7ea6",
   "metadata": {},
   "outputs": [],
   "source": []
  }
 ],
 "metadata": {
  "kernelspec": {
   "display_name": "Python 3",
   "language": "python",
   "name": "python3"
  },
  "language_info": {
   "codemirror_mode": {
    "name": "ipython",
    "version": 3
   },
   "file_extension": ".py",
   "mimetype": "text/x-python",
   "name": "python",
   "nbconvert_exporter": "python",
   "pygments_lexer": "ipython3",
   "version": "3.6.9"
  }
 },
 "nbformat": 4,
 "nbformat_minor": 5
}
