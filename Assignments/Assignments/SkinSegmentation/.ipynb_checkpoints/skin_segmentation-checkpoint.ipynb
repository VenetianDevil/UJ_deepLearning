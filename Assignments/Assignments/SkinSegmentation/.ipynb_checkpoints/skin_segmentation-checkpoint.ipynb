{
 "cells": [
  {
   "cell_type": "markdown",
   "id": "54cfe36a",
   "metadata": {},
   "source": [
    "# Skin segmentation"
   ]
  },
  {
   "cell_type": "markdown",
   "id": "428d02b7",
   "metadata": {},
   "source": [
    "In this assignement you will train classifier to assign colors to skin or no skin classes. The data is taken from [Skin Segmentation Data Set](http://archive.ics.uci.edu/ml/datasets/Skin+Segmentation#) in the UCI Machine Learning repository."
   ]
  },
  {
   "cell_type": "markdown",
   "id": "a1585ad4",
   "metadata": {},
   "source": [
    "The  data is in a plain text format and contains four columns. First three contain RGB color data  represented as integers in the range 0-255, and the last column is an integer label  with 1 representing skin and 2 representing no skin. This file we can load directly into a numpy array:"
   ]
  },
  {
   "cell_type": "code",
   "execution_count": 1,
   "id": "57c50b7c",
   "metadata": {},
   "outputs": [],
   "source": [
    "import numpy as np\n",
    "import matplotlib.pyplot as plt\n",
    "import torch\n",
    "from torch import nn"
   ]
  },
  {
   "cell_type": "code",
   "execution_count": null,
   "id": "0c41ad03",
   "metadata": {},
   "outputs": [],
   "source": [
    "data = np.loadtxt('data/Skin_NonSkin.txt')"
   ]
  },
  {
   "cell_type": "code",
   "execution_count": null,
   "id": "496d5ff9",
   "metadata": {},
   "outputs": [],
   "source": [
    "rgb  = data[:,:3].astype('float32')\n",
    "lbl = data[:,3].astype('float32') \n",
    "lbl = 2-lbl # 1-skin, 0-not skin; >0.5 rcognized as skin"
   ]
  },
  {
   "cell_type": "code",
   "execution_count": null,
   "id": "16eeeeca",
   "metadata": {},
   "outputs": [],
   "source": [
    "len(data)"
   ]
  },
  {
   "cell_type": "code",
   "execution_count": null,
   "id": "e95b6656",
   "metadata": {},
   "outputs": [],
   "source": [
    "np.bincount(lbl.astype('int32'))"
   ]
  },
  {
   "cell_type": "markdown",
   "id": "4e88b6f4",
   "metadata": {},
   "source": [
    "## Problem 1"
   ]
  },
  {
   "cell_type": "markdown",
   "id": "b7b733fd",
   "metadata": {},
   "source": [
    "Train the neural network to distinguish skin from no skin colors. Calculate the accuracy on train and validation sets. Calculate true positives rate and false positives rate."
   ]
  },
  {
   "cell_type": "code",
   "execution_count": null,
   "id": "f06e5ba6-3f73-4878-8b93-a1abb3a6537a",
   "metadata": {},
   "outputs": [],
   "source": [
    "model = nn.Sequential(\n",
    "    nn.Linear(3, 30), # transforms incoming 3 features into output of 30 features\n",
    "    nn.ReLU(), # Applies the rectified linear unit function element-wise\n",
    "    nn.Linear(30, 60),\n",
    "    nn.ReLU(),\n",
    "    nn.Linear(60, 20),\n",
    "    nn.ReLU(),\n",
    "    nn.Linear(20, 1),\n",
    "    nn.Sigmoid() # Applies the element-wise function\n",
    ")"
   ]
  },
  {
   "cell_type": "code",
   "execution_count": null,
   "id": "dd503a7a-96a9-43ae-ac63-5c49c406b1a0",
   "metadata": {},
   "outputs": [],
   "source": [
    "params = {\n",
    "    'batch_size': 600,\n",
    "    'num_workers': 10, #multi-process data loading\n",
    "}\n",
    "\n",
    "# data to pytorch Tensors\n",
    "x_data = torch.from_numpy(rgb)\n",
    "y_data = torch.from_numpy(lbl)\n",
    "\n",
    "dataset = torch.utils.data.TensorDataset(x_data, y_data)\n",
    "training_dataset, test_dataset = torch.utils.data.random_split(dataset, [179652, 65405])\n",
    "training_generator = torch.utils.data.DataLoader(training_dataset, **params) \n",
    "test_generator = torch.utils.data.DataLoader(test_dataset, **params)\n",
    "\n",
    "# np.bincount(training_dataset)"
   ]
  },
  {
   "cell_type": "code",
   "execution_count": null,
   "id": "5b6ef14e-a5d6-4054-a6a6-7a48e8a95a5d",
   "metadata": {},
   "outputs": [],
   "source": [
    "optimizer=torch.optim.SGD(model.parameters(), lr = 0.003)\n",
    "loss_fn = nn.BCEWithLogitsLoss()\n",
    "# loss_fn = nn.BCELoss()"
   ]
  },
  {
   "cell_type": "code",
   "execution_count": null,
   "id": "baf35a0c-d997-4d4f-90a7-2d501505b980",
   "metadata": {},
   "outputs": [],
   "source": [
    "%%time\n",
    "epochs = 550\n",
    "train_loss = []\n",
    "test_acc_list = np.array([])\n",
    "\n",
    "for e in range(epochs):    \n",
    "    model.train() # setting model to training mode\n",
    "    \n",
    "    #training\n",
    "    for local_x, local_y in training_generator:    \n",
    "        optimizer.zero_grad()\n",
    "        output = model(local_x) #calling model(x)  instead of forward(x); outputs predictions\n",
    "        # loss = loss_fn(local_y.reshape(-1, 1), output)\n",
    "        loss = loss_fn(output, local_y.reshape(-1, 1))\n",
    "        \n",
    "        loss.backward()\n",
    "        optimizer.step()\n",
    "    \n",
    "        train_loss.append(loss.item())\n",
    "    \n",
    "    model.eval()\n",
    "    with torch.set_grad_enabled(False):\n",
    "        for local_x, local_y in test_generator:\n",
    "            # test_pred = torch.sigmoid(model(local_x)) # prediction\n",
    "            # test_tag = (test_pred < 0.5).type(torch.FloatTensor) # 0 / 1\n",
    "            # # correct = (prediction == local_y).type(torch.FloatTensor)\n",
    "            # # print(float(torch.mean(correct)))\n",
    "            # test_acc_list.append(test_tag.cpu().numpy())\n",
    "            local_y = local_y.reshape(-1, 1).type(torch.FloatTensor)\n",
    "            test_pred = model(local_x)\n",
    "            val_loss = loss_fn(local_y, test_pred)\n",
    "            np.append(test_acc_list, val_loss.item())\n",
    "        \n",
    "    if e % 10 == 0:\n",
    "        print(f\"Epoch {str(e)} -> {str(loss.item())}\")"
   ]
  },
  {
   "cell_type": "code",
   "execution_count": null,
   "id": "9f79d259-14b3-43be-bc36-dd67e161472c",
   "metadata": {},
   "outputs": [],
   "source": [
    "test_acc_list = np.array([])\n",
    "\n",
    "#   testing\n",
    "model.eval()\n",
    "with torch.set_grad_enabled(False):\n",
    "    for local_x, local_y in test_generator:\n",
    "        # test_pred = torch.sigmoid(model(local_x)) # prediction\n",
    "        # test_tag = (test_pred < 0.5).type(torch.FloatTensor) # 0 / 1\n",
    "        # # correct = (prediction == local_y).type(torch.FloatTensor)\n",
    "        # # print(float(torch.mean(correct)))\n",
    "        # test_acc_list.append(test_tag.cpu().numpy())\n",
    "        local_y = local_y.reshape(-1, 1).type(torch.FloatTensor)\n",
    "        test_pred = model(local_x)\n",
    "        val_loss = loss_fn(local_y, test_pred)\n",
    "        np.append(test_acc_list, val_loss.item())\n",
    "            "
   ]
  },
  {
   "cell_type": "code",
   "execution_count": null,
   "id": "468f8ff7-a923-4860-a345-72b1f1f32a73",
   "metadata": {},
   "outputs": [],
   "source": [
    "# print(model.state_dict())"
   ]
  },
  {
   "cell_type": "code",
   "execution_count": null,
   "id": "aa9e557f-fd33-4b5d-93ed-c07f4a492c1e",
   "metadata": {},
   "outputs": [],
   "source": [
    "plt.plot(train_loss)\n",
    "test_acc_list = torch.from_numpy(test_acc_list)\n",
    "test_acc_list = torch.squeeze(test_acc_list)\n",
    "\n",
    "plt.plot(test_acc_list, color=\"pink\")\n",
    "plt.show()"
   ]
  },
  {
   "cell_type": "code",
   "execution_count": null,
   "id": "b0f90c5e-7d8f-44d5-beb1-0951f83a3ee4",
   "metadata": {},
   "outputs": [],
   "source": []
  }
 ],
 "metadata": {
  "kernelspec": {
   "display_name": "Python 3",
   "language": "python",
   "name": "python3"
  },
  "language_info": {
   "codemirror_mode": {
    "name": "ipython",
    "version": 3
   },
   "file_extension": ".py",
   "mimetype": "text/x-python",
   "name": "python",
   "nbconvert_exporter": "python",
   "pygments_lexer": "ipython3",
   "version": "3.6.9"
  }
 },
 "nbformat": 4,
 "nbformat_minor": 5
}
