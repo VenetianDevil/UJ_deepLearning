{
 "cells": [
  {
   "cell_type": "markdown",
   "id": "54cfe36a",
   "metadata": {},
   "source": [
    "# Skin segmentation"
   ]
  },
  {
   "cell_type": "markdown",
   "id": "428d02b7",
   "metadata": {},
   "source": [
    "In this assignement you will train classifier to assign colors to skin or no skin classes. The data is taken from [Skin Segmentation Data Set](http://archive.ics.uci.edu/ml/datasets/Skin+Segmentation#) in the UCI Machine Learning repository."
   ]
  },
  {
   "cell_type": "markdown",
   "id": "a1585ad4",
   "metadata": {},
   "source": [
    "The  data is in a plain text format and contains four columns. First three contain RGB color data  represented as integers in the range 0-255, and the last column is an integer label  with 1 representing skin and 2 representing no skin. This file we can load directly into a numpy array:"
   ]
  },
  {
   "cell_type": "code",
   "execution_count": 1,
   "id": "57c50b7c",
   "metadata": {},
   "outputs": [],
   "source": [
    "import numpy as np\n",
    "import matplotlib.pyplot as plt\n",
    "import torch\n",
    "from torch import nn"
   ]
  },
  {
   "cell_type": "code",
   "execution_count": 2,
   "id": "0c41ad03",
   "metadata": {},
   "outputs": [],
   "source": [
    "data = np.loadtxt('data/Skin_NonSkin.txt')"
   ]
  },
  {
   "cell_type": "code",
   "execution_count": 3,
   "id": "496d5ff9",
   "metadata": {},
   "outputs": [],
   "source": [
    "rgb  = data[:,:3].astype('float32')\n",
    "lbl = data[:,3].astype('float32') \n",
    "lbl = 2-lbl # 1-skin, 0-not skin; >0.5 rcognized as skin"
   ]
  },
  {
   "cell_type": "code",
   "execution_count": 4,
   "id": "16eeeeca",
   "metadata": {},
   "outputs": [
    {
     "data": {
      "text/plain": [
       "245057"
      ]
     },
     "execution_count": 4,
     "metadata": {},
     "output_type": "execute_result"
    }
   ],
   "source": [
    "len(data)"
   ]
  },
  {
   "cell_type": "code",
   "execution_count": 5,
   "id": "e95b6656",
   "metadata": {},
   "outputs": [
    {
     "data": {
      "text/plain": [
       "array([194198,  50859])"
      ]
     },
     "execution_count": 5,
     "metadata": {},
     "output_type": "execute_result"
    }
   ],
   "source": [
    "np.bincount(lbl.astype('int32'))"
   ]
  },
  {
   "cell_type": "markdown",
   "id": "4e88b6f4",
   "metadata": {},
   "source": [
    "## Problem 1"
   ]
  },
  {
   "cell_type": "markdown",
   "id": "b7b733fd",
   "metadata": {},
   "source": [
    "Train the neural network to distinguish skin from no skin colors. Calculate the accuracy on train and validation sets. Calculate true positives rate and false positives rate."
   ]
  },
  {
   "cell_type": "code",
   "execution_count": 6,
   "id": "f06e5ba6-3f73-4878-8b93-a1abb3a6537a",
   "metadata": {},
   "outputs": [],
   "source": [
    "model = nn.Sequential(\n",
    "    nn.Linear(3, 30), # transforms incoming 3 features into output of 30 features\n",
    "    nn.ReLU(), # Applies the rectified linear unit function element-wise\n",
    "    nn.Linear(30, 60),\n",
    "    nn.ReLU(),\n",
    "    nn.Linear(60, 20),\n",
    "    nn.ReLU(),\n",
    "    nn.Linear(20, 1),\n",
    "    nn.Sigmoid() # Applies the element-wise function\n",
    ")"
   ]
  },
  {
   "cell_type": "code",
   "execution_count": 7,
   "id": "dd503a7a-96a9-43ae-ac63-5c49c406b1a0",
   "metadata": {},
   "outputs": [],
   "source": [
    "params = {\n",
    "    'batch_size': 600,\n",
    "    'num_workers': 10, #multi-process data loading\n",
    "}\n",
    "\n",
    "# data to pytorch Tensors\n",
    "x_data = torch.from_numpy(rgb)\n",
    "y_data = torch.from_numpy(lbl)\n",
    "\n",
    "dataset = torch.utils.data.TensorDataset(x_data, y_data)\n",
    "training_dataset, test_dataset = torch.utils.data.random_split(dataset, [179652, 65405])\n",
    "training_generator = torch.utils.data.DataLoader(training_dataset, **params) \n",
    "test_generator = torch.utils.data.DataLoader(test_dataset, **params)\n",
    "\n",
    "# np.bincount(training_dataset)"
   ]
  },
  {
   "cell_type": "code",
   "execution_count": 8,
   "id": "5b6ef14e-a5d6-4054-a6a6-7a48e8a95a5d",
   "metadata": {},
   "outputs": [],
   "source": [
    "optimizer=torch.optim.SGD(model.parameters(), lr = 0.003)\n",
    "loss_fn = nn.BCEWithLogitsLoss()\n",
    "# loss_fn = nn.BCELoss()"
   ]
  },
  {
   "cell_type": "code",
   "execution_count": 9,
   "id": "baf35a0c-d997-4d4f-90a7-2d501505b980",
   "metadata": {},
   "outputs": [
    {
     "name": "stdout",
     "output_type": "stream",
     "text": [
      "Epoch 0 -> 0.7028648853302002\n",
      "Epoch 10 -> 0.6980425715446472\n",
      "Epoch 20 -> 0.6969514489173889\n",
      "Epoch 30 -> 0.6963737607002258\n",
      "Epoch 40 -> 0.6959874629974365\n",
      "Epoch 50 -> 0.6956949234008789\n",
      "Epoch 60 -> 0.6954588890075684\n",
      "Epoch 70 -> 0.6952617168426514\n",
      "Epoch 80 -> 0.6950927376747131\n",
      "Epoch 90 -> 0.6949460506439209\n",
      "Epoch 100 -> 0.6948169469833374\n",
      "Epoch 110 -> 0.694702684879303\n",
      "Epoch 120 -> 0.6946008801460266\n",
      "Epoch 130 -> 0.6945096850395203\n",
      "Epoch 140 -> 0.6944276094436646\n",
      "Epoch 150 -> 0.694353461265564\n",
      "Epoch 160 -> 0.6942861676216125\n",
      "Epoch 170 -> 0.6942248940467834\n",
      "Epoch 180 -> 0.6941689252853394\n",
      "Epoch 190 -> 0.694117546081543\n",
      "Epoch 200 -> 0.6940703392028809\n",
      "Epoch 210 -> 0.6940268874168396\n",
      "Epoch 220 -> 0.6939865946769714\n",
      "Epoch 230 -> 0.6939494609832764\n",
      "Epoch 240 -> 0.6939147710800171\n",
      "Epoch 250 -> 0.6938825249671936\n",
      "Epoch 260 -> 0.6938524842262268\n",
      "Epoch 270 -> 0.6938244700431824\n",
      "Epoch 280 -> 0.6937980651855469\n",
      "Epoch 290 -> 0.6937734484672546\n",
      "Epoch 300 -> 0.6937502026557922\n",
      "Epoch 310 -> 0.6937284469604492\n",
      "Epoch 320 -> 0.6937079429626465\n",
      "Epoch 330 -> 0.6936885118484497\n",
      "Epoch 340 -> 0.6936702132225037\n",
      "Epoch 350 -> 0.693652868270874\n",
      "Epoch 360 -> 0.6936365365982056\n",
      "Epoch 370 -> 0.6936209201812744\n",
      "Epoch 380 -> 0.6936061382293701\n",
      "Epoch 390 -> 0.6935920715332031\n",
      "Epoch 400 -> 0.6935787796974182\n",
      "Epoch 410 -> 0.693566083908081\n",
      "Epoch 420 -> 0.6935539841651917\n",
      "Epoch 430 -> 0.6935424208641052\n",
      "Epoch 440 -> 0.6935313940048218\n",
      "Epoch 450 -> 0.6935208439826965\n",
      "Epoch 460 -> 0.6935108304023743\n",
      "Epoch 470 -> 0.6935011148452759\n",
      "Epoch 480 -> 0.6934919357299805\n",
      "Epoch 490 -> 0.6934830546379089\n",
      "Epoch 500 -> 0.6934745907783508\n",
      "Epoch 510 -> 0.6934664249420166\n",
      "Epoch 520 -> 0.693458616733551\n",
      "Epoch 530 -> 0.6934511065483093\n",
      "Epoch 540 -> 0.6934438943862915\n",
      "CPU times: user 33min 17s, sys: 20min 22s, total: 53min 39s\n",
      "Wall time: 37min 52s\n"
     ]
    }
   ],
   "source": [
    "%%time\n",
    "epochs = 550\n",
    "train_loss = []\n",
    "test_acc_list = np.array([])\n",
    "\n",
    "for e in range(epochs):    \n",
    "    model.train() # setting model to training mode\n",
    "    \n",
    "    #training\n",
    "    for local_x, local_y in training_generator:    \n",
    "        optimizer.zero_grad()\n",
    "        output = model(local_x) #calling model(x)  instead of forward(x); outputs predictions\n",
    "        # loss = loss_fn(local_y.reshape(-1, 1), output)\n",
    "        loss = loss_fn(output, local_y.reshape(-1, 1))\n",
    "        \n",
    "        loss.backward()\n",
    "        optimizer.step()\n",
    "    \n",
    "        train_loss.append(loss.item())\n",
    "    \n",
    "    model.eval()\n",
    "    with torch.set_grad_enabled(False):\n",
    "        for local_x, local_y in test_generator:\n",
    "            # test_pred = torch.sigmoid(model(local_x)) # prediction\n",
    "            # test_tag = (test_pred < 0.5).type(torch.FloatTensor) # 0 / 1\n",
    "            # # correct = (prediction == local_y).type(torch.FloatTensor)\n",
    "            # # print(float(torch.mean(correct)))\n",
    "            # test_acc_list.append(test_tag.cpu().numpy())\n",
    "            local_y = local_y.reshape(-1, 1).type(torch.FloatTensor)\n",
    "            test_pred = model(local_x)\n",
    "            val_loss = loss_fn(local_y, test_pred)\n",
    "            np.append(test_acc_list, val_loss.item())\n",
    "        \n",
    "    if e % 10 == 0:\n",
    "        print(f\"Epoch {str(e)} -> {str(loss.item())}\")"
   ]
  },
  {
   "cell_type": "code",
   "execution_count": null,
   "id": "9f79d259-14b3-43be-bc36-dd67e161472c",
   "metadata": {},
   "outputs": [],
   "source": [
    "# test_acc_list = np.array([])\n",
    "\n",
    "# #   testing\n",
    "# model.eval()\n",
    "# with torch.set_grad_enabled(False):\n",
    "#     for local_x, local_y in test_generator:\n",
    "#         # test_pred = torch.sigmoid(model(local_x)) # prediction\n",
    "#         # test_tag = (test_pred < 0.5).type(torch.FloatTensor) # 0 / 1\n",
    "#         # # correct = (prediction == local_y).type(torch.FloatTensor)\n",
    "#         # # print(float(torch.mean(correct)))\n",
    "#         # test_acc_list.append(test_tag.cpu().numpy())\n",
    "#         local_y = local_y.reshape(-1, 1).type(torch.FloatTensor)\n",
    "#         test_pred = model(local_x)\n",
    "#         val_loss = loss_fn(local_y, test_pred)\n",
    "#         np.append(test_acc_list, val_loss.item())\n",
    "            "
   ]
  },
  {
   "cell_type": "code",
   "execution_count": null,
   "id": "468f8ff7-a923-4860-a345-72b1f1f32a73",
   "metadata": {},
   "outputs": [],
   "source": [
    "# print(model.state_dict())"
   ]
  },
  {
   "cell_type": "code",
   "execution_count": 16,
   "id": "aa9e557f-fd33-4b5d-93ed-c07f4a492c1e",
   "metadata": {},
   "outputs": [
    {
     "ename": "TypeError",
     "evalue": "expected np.ndarray (got Tensor)",
     "output_type": "error",
     "traceback": [
      "\u001b[0;31m---------------------------------------------------------------------------\u001b[0m",
      "\u001b[0;31mTypeError\u001b[0m                                 Traceback (most recent call last)",
      "\u001b[0;32m<ipython-input-16-497e8836c752>\u001b[0m in \u001b[0;36m<module>\u001b[0;34m\u001b[0m\n\u001b[1;32m      1\u001b[0m \u001b[0mplt\u001b[0m\u001b[0;34m.\u001b[0m\u001b[0mplot\u001b[0m\u001b[0;34m(\u001b[0m\u001b[0mtrain_loss\u001b[0m\u001b[0;34m)\u001b[0m\u001b[0;34m\u001b[0m\u001b[0;34m\u001b[0m\u001b[0m\n\u001b[0;32m----> 2\u001b[0;31m \u001b[0mtest_acc_list\u001b[0m \u001b[0;34m=\u001b[0m \u001b[0mtorch\u001b[0m\u001b[0;34m.\u001b[0m\u001b[0mfrom_numpy\u001b[0m\u001b[0;34m(\u001b[0m\u001b[0mtest_acc_list\u001b[0m\u001b[0;34m)\u001b[0m\u001b[0;34m\u001b[0m\u001b[0;34m\u001b[0m\u001b[0m\n\u001b[0m\u001b[1;32m      3\u001b[0m \u001b[0mtest_acc_list\u001b[0m \u001b[0;34m=\u001b[0m \u001b[0mtorch\u001b[0m\u001b[0;34m.\u001b[0m\u001b[0msqueeze\u001b[0m\u001b[0;34m(\u001b[0m\u001b[0mtest_acc_list\u001b[0m\u001b[0;34m)\u001b[0m\u001b[0;34m\u001b[0m\u001b[0;34m\u001b[0m\u001b[0m\n\u001b[1;32m      4\u001b[0m \u001b[0;34m\u001b[0m\u001b[0m\n\u001b[1;32m      5\u001b[0m \u001b[0mplt\u001b[0m\u001b[0;34m.\u001b[0m\u001b[0mplot\u001b[0m\u001b[0;34m(\u001b[0m\u001b[0mtest_acc_list\u001b[0m\u001b[0;34m,\u001b[0m \u001b[0mcolor\u001b[0m\u001b[0;34m=\u001b[0m\u001b[0;34m\"pink\"\u001b[0m\u001b[0;34m)\u001b[0m\u001b[0;34m\u001b[0m\u001b[0;34m\u001b[0m\u001b[0m\n",
      "\u001b[0;31mTypeError\u001b[0m: expected np.ndarray (got Tensor)"
     ]
    },
    {
     "data": {
      "image/png": "[encoded data removed]",
      "text/plain": [
       "<Figure size 432x288 with 1 Axes>"
      ]
     },
     "metadata": {
      "needs_background": "light"
     },
     "output_type": "display_data"
    }
   ],
   "source": [
    "plt.plot(train_loss)\n",
    "test_acc_list = torch.from_numpy(test_acc_list)\n",
    "test_acc_list = torch.squeeze(test_acc_list)\n",
    "\n",
    "plt.plot(test_acc_list, color=\"pink\")\n",
    "plt.show()"
   ]
  },
  {
   "cell_type": "code",
   "execution_count": null,
   "id": "b0f90c5e-7d8f-44d5-beb1-0951f83a3ee4",
   "metadata": {},
   "outputs": [],
   "source": []
  }
 ],
 "metadata": {
  "kernelspec": {
   "display_name": "Python 3",
   "language": "python",
   "name": "python3"
  },
  "language_info": {
   "codemirror_mode": {
    "name": "ipython",
    "version": 3
   },
   "file_extension": ".py",
   "mimetype": "text/x-python",
   "name": "python",
   "nbconvert_exporter": "python",
   "pygments_lexer": "ipython3",
   "version": "3.6.9"
  }
 },
 "nbformat": 4,
 "nbformat_minor": 5
}
