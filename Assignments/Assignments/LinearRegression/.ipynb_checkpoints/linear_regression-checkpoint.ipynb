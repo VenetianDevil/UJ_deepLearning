{
 "cells": [
  {
   "cell_type": "code",
   "execution_count": 1,
   "id": "bcafd566",
   "metadata": {
    "slideshow": {
     "slide_type": "skip"
    }
   },
   "outputs": [],
   "source": [
    "import numpy as np\n",
    "import matplotlib.pyplot as plt\n",
    "import matplotlib.text as text"
   ]
  },
  {
   "cell_type": "markdown",
   "id": "613f0932",
   "metadata": {
    "slideshow": {
     "slide_type": "slide"
    }
   },
   "source": [
    "## Linear regression"
   ]
  },
  {
   "cell_type": "markdown",
   "id": "0820fcae",
   "metadata": {},
   "source": [
    "In this notebook we will consider a simple linear regression model:"
   ]
  },
  {
   "cell_type": "markdown",
   "id": "35874bc9",
   "metadata": {
    "slideshow": {
     "slide_type": "fragment"
    }
   },
   "source": [
    "$$ y_i = x_{ij} w_j + b$$"
   ]
  },
  {
   "cell_type": "markdown",
   "id": "abe0256d",
   "metadata": {},
   "source": [
    "We will be using the \"summation conventions\": when an index is repeated the summation over this index is implied:"
   ]
  },
  {
   "cell_type": "markdown",
   "id": "30802aeb",
   "metadata": {},
   "source": [
    "$$ \n",
    "x_{ij} w_j \\equiv   \\sum_j x_{ij} w_j \n",
    "$$"
   ]
  },
  {
   "cell_type": "markdown",
   "id": "1998f0b6",
   "metadata": {},
   "source": [
    "#### Problem 1"
   ]
  },
  {
   "cell_type": "markdown",
   "id": "7773b857",
   "metadata": {},
   "source": [
    "Implement function `linear(x,w,b)` that given feature matrix $\\mathbf{x}$, weights $\\mathbf{w}$ and bias $b$  returns $\\mathbf{y}$. **Hint** Use matrix multiplication operator `@`."
   ]
  },
  {
   "cell_type": "code",
   "execution_count": 2,
   "id": "121adeab",
   "metadata": {
    "tags": []
   },
   "outputs": [
    {
     "data": {
      "image/png": "[encoded data removed]",
      "text/plain": [
       "<Figure size 432x288 with 1 Axes>"
      ]
     },
     "metadata": {
      "needs_background": "light"
     },
     "output_type": "display_data"
    }
   ],
   "source": [
    "def linear(x,w,b):\n",
    "    y = x@w + b\n",
    "    return y\n",
    "\n",
    "a = np.random.rand(3, 2)\n",
    "b = np.random.rand(2)\n",
    "y=linear(a, b, 5)\n",
    "plt.plot(y)\n",
    "plt.show()"
   ]
  },
  {
   "cell_type": "markdown",
   "id": "bdd607cf",
   "metadata": {
    "tags": []
   },
   "source": [
    "### Data"
   ]
  },
  {
   "cell_type": "markdown",
   "id": "1ca7650c",
   "metadata": {
    "tags": []
   },
   "source": [
    "#### Problem 2"
   ]
  },
  {
   "cell_type": "markdown",
   "id": "a149b7a0",
   "metadata": {
    "slideshow": {
     "slide_type": "-"
    }
   },
   "source": [
    "Generate a random feature matrix $\\mathbf{x}$ witch 10000 samples and three features, such that first feature is drawn from normal distribution $\\mathcal{N}(0,1)$, second feature from  uniform distribution on interval $[0,1)$ and third from $\\mathcal{N}(1,2)$, where \n",
    "$N(\\mu,\\sigma)$ denotes normal distribution with mean $\\mu$ and standard deviation $\\sigma$. To generate random numbers you can use `numpy.random.normal` and `numpy.random.uniform` functions. To collect all features together you can use `numpy.stack` function."
   ]
  },
  {
   "cell_type": "markdown",
   "id": "251a10a9",
   "metadata": {
    "slideshow": {
     "slide_type": "-"
    }
   },
   "source": [
    "Then using $\\mathbf{x}$, weights $w_{true}$  and  bias $b_{true}$:"
   ]
  },
  {
   "cell_type": "code",
   "execution_count": 3,
   "id": "69fa174e",
   "metadata": {
    "slideshow": {
     "slide_type": "-"
    }
   },
   "outputs": [
    {
     "data": {
      "image/png": "[encoded data removed]",
      "text/plain": [
       "<Figure size 432x288 with 1 Axes>"
      ]
     },
     "metadata": {
      "needs_background": "light"
     },
     "output_type": "display_data"
    }
   ],
   "source": [
    "N=10000\n",
    "normal=np.random.normal(0, 1, N)\n",
    "uniform=np.random.uniform(0, 1, N)\n",
    "onetwo=np.random.normal(1, 2, N)\n",
    "x=np.stack((normal, uniform, onetwo), axis=-1)\n",
    "\n",
    "w_true = np.array([0.2, 0.5,-0.2])\n",
    "b_true = -1\n",
    "\n",
    "y=linear(x, w_true, b_true)\n",
    "\n",
    "noise=np.random.normal(0, 0.1, N)\n",
    "y=np.add(y, noise)\n",
    "\n",
    "plt.plot(y)\n",
    "plt.show()"
   ]
  },
  {
   "cell_type": "markdown",
   "id": "9a0dc2aa",
   "metadata": {
    "slideshow": {
     "slide_type": "-"
    }
   },
   "source": [
    "generate output $\\mathbf{y}$ assuming a normaly distributed $\\mathcal{N}(0,0.1)$ noise $\\mathbf{\\epsilon}$."
   ]
  },
  {
   "cell_type": "markdown",
   "id": "ddb5ba66",
   "metadata": {
    "slideshow": {
     "slide_type": "-"
    }
   },
   "source": [
    "$$ y_i =  \n",
    "x_{ij} w_j+b +\\epsilon_i \n",
    "$$"
   ]
  },
  {
   "cell_type": "markdown",
   "id": "14e23206",
   "metadata": {
    "slideshow": {
     "slide_type": "slide"
    }
   },
   "source": [
    "### Loss"
   ]
  },
  {
   "cell_type": "markdown",
   "id": "656827f7",
   "metadata": {},
   "source": [
    "#### Problem 3"
   ]
  },
  {
   "cell_type": "markdown",
   "id": "c3129d8c",
   "metadata": {},
   "source": [
    "Given the means square loss"
   ]
  },
  {
   "cell_type": "markdown",
   "id": "a22a36ea",
   "metadata": {
    "slideshow": {
     "slide_type": "fragment"
    }
   },
   "source": [
    "$$ MSE(w,b|y,x) = \\frac{1}{2}\\frac{1}{N}\\sum_{i=0}^{N-1} (y_i -  x_{ij} w_j -b  )^2$$"
   ]
  },
  {
   "cell_type": "markdown",
   "id": "d21705d0",
   "metadata": {},
   "source": [
    "write down the python function `mse(y,x,w,b)` implementing it:"
   ]
  },
  {
   "cell_type": "code",
   "execution_count": 4,
   "id": "d41dc263",
   "metadata": {
    "slideshow": {
     "slide_type": "skip"
    },
    "tags": []
   },
   "outputs": [],
   "source": [
    "def mse(y,x,w,b):\n",
    "    Sum = 0\n",
    "    err = (y-(x@w)-b)\n",
    "    return (1/(2*N))*np.sum(err*err, axis=-1)"
   ]
  },
  {
   "cell_type": "markdown",
   "id": "6fcff2d5",
   "metadata": {},
   "source": [
    "### Gradient"
   ]
  },
  {
   "cell_type": "markdown",
   "id": "4b45b5b2",
   "metadata": {},
   "source": [
    "and implement functions `grad_w(y,x,w,b)` and `grad_b(y,x,w,b)` implementing those gradients."
   ]
  },
  {
   "cell_type": "code",
   "execution_count": 5,
   "id": "3d2297e9",
   "metadata": {
    "tags": []
   },
   "outputs": [],
   "source": [
    "def grad_w(y,x,w,b):\n",
    "    return -(1/N)*(y@x-x.transpose()@x@w-b*sum(x))\n",
    "    \n",
    "def grad_b(y,x,w,b):\n",
    "    return -(1/N)*(sum(y)-x@w-b*N)"
   ]
  },
  {
   "cell_type": "markdown",
   "id": "677fc3db",
   "metadata": {},
   "source": [
    "### Gradient descent"
   ]
  },
  {
   "cell_type": "markdown",
   "id": "1ee62725",
   "metadata": {},
   "source": [
    "#### Problem 4"
   ]
  },
  {
   "cell_type": "markdown",
   "id": "e76ad58f",
   "metadata": {},
   "source": [
    "Implement gradient descent for linear regression. Start from"
   ]
  },
  {
   "cell_type": "code",
   "execution_count": 6,
   "id": "c6285e86",
   "metadata": {},
   "outputs": [
    {
     "name": "stdout",
     "output_type": "stream",
     "text": [
      "1000\n",
      "We need  69  epochs\n",
      "[ 0.2  0.5 -0.2] -1\n",
      "[ 0.19828175  0.39917987 -0.20013899] -0.9505563660356843\n"
     ]
    }
   ],
   "source": [
    "w = np.asarray([0.0,0.0,0.0], dtype='float64')\n",
    "b = 1.0\n",
    "epochs = 1000\n",
    "alpha = 0.2\n",
    "\n",
    "def gradientDescent(x, y):\n",
    "    global w\n",
    "    global b\n",
    "    print(epochs)\n",
    "    for e in range(epochs):\n",
    "        gradW = alpha*grad_w(y,x,w,b)\n",
    "        gradB = alpha*grad_b(y,x,w,b)\n",
    "        \n",
    "        w -= gradW\n",
    "        b -= gradB[0]\n",
    "        \n",
    "        mseValue = mse(y, x, w, b)\n",
    "        # print(e, mseValue)\n",
    "        if (mseValue < 0.0055):\n",
    "            print('We need ', e, ' epochs')\n",
    "            break\n",
    "    \n",
    "    if(e==epochs):\n",
    "        print('not found')\n",
    "        \n",
    "gradientDescent(x, y)\n",
    "print(w_true, b_true)\n",
    "print (w, b)"
   ]
  },
  {
   "cell_type": "markdown",
   "id": "124062dc",
   "metadata": {},
   "source": [
    "How many epochs did you need to get MSE below 0.0075 ?"
   ]
  },
  {
   "cell_type": "markdown",
   "id": "4f5572cd",
   "metadata": {},
   "source": [
    "### Pytorch"
   ]
  },
  {
   "cell_type": "markdown",
   "id": "de5f76d6",
   "metadata": {},
   "source": [
    "#### Problem 5"
   ]
  },
  {
   "cell_type": "markdown",
   "id": "4f184cb9",
   "metadata": {},
   "source": [
    "Implement gradient descent using pytorch. Start by just rewritting Problem 4 to use torch Tensors instead of numpy arrays."
   ]
  },
  {
   "cell_type": "markdown",
   "id": "4aab1bd8",
   "metadata": {},
   "source": [
    "To convert frrom numpy arrays to torch tensors you can use ``torch.from_numpy()`` function:"
   ]
  },
  {
   "cell_type": "code",
   "execution_count": 7,
   "id": "3dbd4dc0",
   "metadata": {},
   "outputs": [],
   "source": [
    "import torch as t "
   ]
  },
  {
   "cell_type": "code",
   "execution_count": 8,
   "id": "a1f8e062",
   "metadata": {},
   "outputs": [],
   "source": [
    "t_y = t.from_numpy(y)\n",
    "t_x = t.from_numpy(x)\n",
    "t_w = t.DoubleTensor([0,0,0])\n",
    "t_b = t.DoubleTensor([1.0])"
   ]
  },
  {
   "cell_type": "markdown",
   "id": "83da79a3",
   "metadata": {},
   "source": [
    "Then use the automatic differentiation capabilities of Pytorch. To this end the variable with respect to which the gradient will be calculated, `t_w` and `t_b` in this case, must have attribute\n",
    "`requires_grad` set to `True`."
   ]
  },
  {
   "cell_type": "code",
   "execution_count": 9,
   "id": "26112040-b232-4a98-b7b0-66b493c537cd",
   "metadata": {},
   "outputs": [
    {
     "name": "stdout",
     "output_type": "stream",
     "text": [
      "False\n",
      "False\n"
     ]
    }
   ],
   "source": [
    "print(t_w.requires_grad)\n",
    "print(t_b.requires_grad)\n",
    "t_w.requires_grad = True\n",
    "t_b.requires_grad = True"
   ]
  },
  {
   "cell_type": "markdown",
   "id": "3bbf6509",
   "metadata": {},
   "source": [
    "The torch will automatically track any expression containing `t_w` and `t_b` and store its computational graph. The method `backward()` can be run on the final expression to back propagate the gradient. The gradient is then accesible as `t_w.grad`."
   ]
  },
  {
   "cell_type": "code",
   "execution_count": 10,
   "id": "837cadd1-f9c3-445d-82ae-50a1ee225b78",
   "metadata": {},
   "outputs": [
    {
     "data": {
      "text/plain": [
       "tensor([0., 0., 0.], dtype=torch.float64, requires_grad=True)"
      ]
     },
     "execution_count": 10,
     "metadata": {},
     "output_type": "execute_result"
    }
   ],
   "source": [
    "t_w"
   ]
  },
  {
   "cell_type": "code",
   "execution_count": 11,
   "id": "1b6e7a70-d036-42f0-a31d-d1f5fc604878",
   "metadata": {},
   "outputs": [
    {
     "data": {
      "image/png": "[encoded data removed]",
      "text/plain": [
       "<Figure size 432x288 with 1 Axes>"
      ]
     },
     "metadata": {
      "needs_background": "light"
     },
     "output_type": "display_data"
    }
   ],
   "source": [
    "descent = []\n",
    "for e in range(epochs): \n",
    "    # czy istnieje gradient i go wyzerowac\n",
    "    if not ( t_w.grad is None):\n",
    "        t_w.grad.data.zero_()\n",
    "    if not ( t_b.grad is None):\n",
    "        t_b.grad.data.zero_()\n",
    "    \n",
    "    z=t.matmul(t_x, t_w)+t_b\n",
    "    loss = 0.5*t.mean((t_y-z)**2)\n",
    "    loss.backward()\n",
    "    # print(loss)\n",
    "    \n",
    "    # print(t_w.grad)\n",
    "    \n",
    "    t_w.data = t.sub(t_w.data, t_w.grad, alpha=alpha)\n",
    "    t_b.data = t.sub(t_b.data, t_b.grad, alpha=alpha)\n",
    "    \n",
    "    # to anable access to .grad for next backward()     \n",
    "    # t_w.retain_grad()\n",
    "    # t_b.retain_grad()\n",
    "    \n",
    "    descent.append(loss.item())\n",
    "    \n",
    "plt.plot(descent)\n",
    "plt.show()\n",
    "    "
   ]
  },
  {
   "cell_type": "markdown",
   "id": "0d40324c",
   "metadata": {},
   "source": [
    "Finally use  Pytorch  optimisers."
   ]
  },
  {
   "cell_type": "code",
   "execution_count": 12,
   "id": "6173dbc7-0db5-4613-aa44-76875739d035",
   "metadata": {},
   "outputs": [
    {
     "data": {
      "image/png": "[encoded data removed]",
      "text/plain": [
       "<Figure size 432x288 with 1 Axes>"
      ]
     },
     "metadata": {
      "needs_background": "light"
     },
     "output_type": "display_data"
    }
   ],
   "source": [
    "t_w = t.DoubleTensor([0,0,0])\n",
    "t_b = t.DoubleTensor([1.0])\n",
    "t_w.requires_grad = True\n",
    "t_b.requires_grad = True\n",
    "descent2 = []\n",
    "optimizer = t.optim.SGD([t_w, t_b], lr=alpha)\n",
    "\n",
    "for e in range(epochs):      \n",
    "    z=t.matmul(t_x, t_w)+t_b\n",
    "    loss = 0.5*t.mean((t_y-z)**2)\n",
    "    \n",
    "    optimizer.zero_grad()\n",
    "    loss.backward()\n",
    "    optimizer.step()\n",
    "    \n",
    "    descent2.append(loss.item())\n",
    "    \n",
    "plt.plot(descent2)\n",
    "plt.show()"
   ]
  },
  {
   "cell_type": "code",
   "execution_count": null,
   "id": "536618fa-ecff-490a-bcb6-3502b8bd1040",
   "metadata": {},
   "outputs": [],
   "source": []
  }
 ],
 "metadata": {
  "jupytext": {
   "cell_metadata_json": true
  },
  "kernelspec": {
   "display_name": "Python 3",
   "language": "python",
   "name": "python3"
  },
  "language_info": {
   "codemirror_mode": {
    "name": "ipython",
    "version": 3
   },
   "file_extension": ".py",
   "mimetype": "text/x-python",
   "name": "python",
   "nbconvert_exporter": "python",
   "pygments_lexer": "ipython3",
   "version": "3.6.9"
  }
 },
 "nbformat": 4,
 "nbformat_minor": 5
}
