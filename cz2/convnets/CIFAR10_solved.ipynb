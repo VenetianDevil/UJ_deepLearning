{
 "cells": [
  {
   "cell_type": "markdown",
   "metadata": {
    "id": "kVclo602PoY0"
   },
   "source": [
    "<h3>  &nbsp;&nbsp;Train on GPU&nbsp;&nbsp; <a href=\"https://cloud.google.com/tpu/\"><img valign=\"middle\" src=\"https://raw.githubusercontent.com/GoogleCloudPlatform/tensorflow-without-a-phd/master/tensorflow-rl-pong/images/tpu-hexagon.png\" width=\"50\"></a></h3>\n",
    "\n",
    "1. On the main menu, click Runtime and select **Change runtime type**. Set \"GPU\" as the hardware accelerator.\n",
    "1. Click Runtime again and select **Runtime > Run All**. You can also run the cells manually with Shift-ENTER. "
   ]
  },
  {
   "cell_type": "code",
   "execution_count": 1,
   "metadata": {
    "colab": {
     "base_uri": "https://localhost:8080/",
     "height": 35
    },
    "id": "Djq5H5QSK6hc",
    "outputId": "9413d72c-3dca-4275-8233-8ffc8e8a27f2"
   },
   "outputs": [
    {
     "data": {
      "text/plain": [
       "'2.6.0'"
      ]
     },
     "execution_count": 1,
     "metadata": {},
     "output_type": "execute_result"
    }
   ],
   "source": [
    "import keras\n",
    "keras.__version__"
   ]
  },
  {
   "cell_type": "code",
   "execution_count": 2,
   "metadata": {
    "id": "cLjbWVSwLRAM"
   },
   "outputs": [],
   "source": [
    "from keras import layers\n",
    "from keras import models\n",
    "from keras.datasets import cifar10\n",
    "from tensorflow.keras.utils import to_categorical\n",
    "\n",
    "(train_images, train_labels), (test_images, test_labels) = cifar10.load_data()"
   ]
  },
  {
   "cell_type": "code",
   "execution_count": 3,
   "metadata": {
    "colab": {
     "base_uri": "https://localhost:8080/",
     "height": 266
    },
    "id": "f1l1_b4FLnAx",
    "outputId": "89d69c3b-2d12-489b-b848-7ca8eb678f2e"
   },
   "outputs": [
    {
     "data": {
      "image/png": "[encoded data removed]",
      "text/plain": [
       "<Figure size 432x288 with 1 Axes>"
      ]
     },
     "metadata": {
      "needs_background": "light"
     },
     "output_type": "display_data"
    }
   ],
   "source": [
    "import matplotlib.pyplot as plt\n",
    "%matplotlib inline\n",
    "\n",
    "digit = train_images[4]\n",
    "plt.imshow(digit, cmap=plt.cm.binary)\n",
    "\n",
    "plt.show()"
   ]
  },
  {
   "cell_type": "code",
   "execution_count": 4,
   "metadata": {
    "id": "76yjbnbJLjsk"
   },
   "outputs": [],
   "source": [
    "# MODIFY THE CODE TO ADD A VALIDATION SET\n",
    "\n",
    "train_images = train_images[:45000]\n",
    "train_labels = train_labels[:45000]\n",
    "\n",
    "valid_images = train_images[-5000:]\n",
    "valid_labels = train_labels[-5000:]\n",
    "\n",
    "train_images = train_images.reshape((45000, 32, 32, 3))\n",
    "train_images = train_images.astype('float32') / 255\n",
    "\n",
    "test_images = test_images.reshape((10000, 32, 32, 3))\n",
    "test_images = test_images.astype('float32') / 255\n",
    "\n",
    "valid_images = valid_images.reshape((5000, 32, 32, 3))\n",
    "valid_images = valid_images.astype('float32') / 255\n",
    "\n",
    "train_labels = to_categorical(train_labels)\n",
    "test_labels = to_categorical(test_labels)\n",
    "valid_labels = to_categorical(valid_labels)"
   ]
  },
  {
   "cell_type": "code",
   "execution_count": 5,
   "metadata": {
    "id": "rIJilTuvRnDY"
   },
   "outputs": [],
   "source": [
    "  # MAKE WHATEVER CHANGES ARE NECESSARY\n",
    "  # TO GET 0.7 ACCURACY ON THE TEST SET\n",
    "  \n",
    "model = models.Sequential()\n",
    "model.add(layers.Conv2D(32, (3,3), activation='relu', input_shape=(32, 32, 3)))\n",
    "model.add(layers.MaxPooling2D((2, 2)))\n",
    "model.add(layers.Conv2D(64, (3, 3), activation='relu'))\n",
    "model.add(layers.MaxPooling2D((2, 2)))\n",
    "model.add(layers.Conv2D(128, (3, 3), activation='relu'))\n",
    "model.add(layers.Conv2D(128, (3, 3), activation='relu'))\n",
    "model.add(layers.MaxPooling2D((2, 2)))\n",
    "model.add(layers.Flatten())\n",
    "model.add(layers.Dense(32, activation='relu'))\n",
    "model.add(layers.Dense(10, activation='softmax'))\n",
    "\n",
    "model.compile(optimizer='rmsprop',\n",
    "                  loss='categorical_crossentropy',\n",
    "                  metrics=['accuracy'])"
   ]
  },
  {
   "cell_type": "code",
   "execution_count": 6,
   "metadata": {
    "colab": {
     "base_uri": "https://localhost:8080/"
    },
    "id": "Lr0xkEliYc-6",
    "outputId": "e70b9e52-8bc5-44d3-a2ad-0194a0c75348"
   },
   "outputs": [
    {
     "name": "stdout",
     "output_type": "stream",
     "text": [
      "Model: \"sequential\"\n",
      "_________________________________________________________________\n",
      "Layer (type)                 Output Shape              Param #   \n",
      "=================================================================\n",
      "conv2d (Conv2D)              (None, 30, 30, 32)        896       \n",
      "_________________________________________________________________\n",
      "max_pooling2d (MaxPooling2D) (None, 15, 15, 32)        0         \n",
      "_________________________________________________________________\n",
      "conv2d_1 (Conv2D)            (None, 13, 13, 64)        18496     \n",
      "_________________________________________________________________\n",
      "max_pooling2d_1 (MaxPooling2 (None, 6, 6, 64)          0         \n",
      "_________________________________________________________________\n",
      "conv2d_2 (Conv2D)            (None, 4, 4, 128)         73856     \n",
      "_________________________________________________________________\n",
      "conv2d_3 (Conv2D)            (None, 2, 2, 128)         147584    \n",
      "_________________________________________________________________\n",
      "max_pooling2d_2 (MaxPooling2 (None, 1, 1, 128)         0         \n",
      "_________________________________________________________________\n",
      "flatten (Flatten)            (None, 128)               0         \n",
      "_________________________________________________________________\n",
      "dense (Dense)                (None, 32)                4128      \n",
      "_________________________________________________________________\n",
      "dense_1 (Dense)              (None, 10)                330       \n",
      "=================================================================\n",
      "Total params: 245,290\n",
      "Trainable params: 245,290\n",
      "Non-trainable params: 0\n",
      "_________________________________________________________________\n"
     ]
    }
   ],
   "source": [
    "model.summary()"
   ]
  },
  {
   "cell_type": "code",
   "execution_count": 7,
   "metadata": {
    "colab": {
     "base_uri": "https://localhost:8080/"
    },
    "id": "pdgz18QPNOVr",
    "outputId": "fa60256b-beab-40ba-9878-9a8df20c1dac"
   },
   "outputs": [
    {
     "name": "stdout",
     "output_type": "stream",
     "text": [
      "Epoch 1/20\n",
      "352/352 [==============================] - 16s 44ms/step - loss: 1.8555 - accuracy: 0.3207 - val_loss: 1.7654 - val_accuracy: 0.3708\n",
      "Epoch 2/20\n",
      "352/352 [==============================] - 15s 41ms/step - loss: 1.4591 - accuracy: 0.4743 - val_loss: 1.4127 - val_accuracy: 0.5092\n",
      "Epoch 3/20\n",
      "352/352 [==============================] - 14s 41ms/step - loss: 1.2623 - accuracy: 0.5535 - val_loss: 1.1955 - val_accuracy: 0.5644\n",
      "Epoch 4/20\n",
      "352/352 [==============================] - 15s 42ms/step - loss: 1.1179 - accuracy: 0.6090 - val_loss: 1.0568 - val_accuracy: 0.6186\n",
      "Epoch 5/20\n",
      "352/352 [==============================] - 15s 41ms/step - loss: 1.0062 - accuracy: 0.6512 - val_loss: 0.9084 - val_accuracy: 0.6806\n",
      "Epoch 6/20\n",
      "352/352 [==============================] - 14s 41ms/step - loss: 0.9107 - accuracy: 0.6827 - val_loss: 0.8518 - val_accuracy: 0.6952\n",
      "Epoch 7/20\n",
      "352/352 [==============================] - 15s 42ms/step - loss: 0.8216 - accuracy: 0.7165 - val_loss: 0.8391 - val_accuracy: 0.7126\n",
      "Epoch 8/20\n",
      "352/352 [==============================] - 15s 43ms/step - loss: 0.7495 - accuracy: 0.7385 - val_loss: 0.6784 - val_accuracy: 0.7612\n",
      "Epoch 9/20\n",
      "352/352 [==============================] - 16s 44ms/step - loss: 0.6817 - accuracy: 0.7640 - val_loss: 0.6486 - val_accuracy: 0.7736\n",
      "Epoch 10/20\n",
      "352/352 [==============================] - 16s 46ms/step - loss: 0.6155 - accuracy: 0.7869 - val_loss: 0.5723 - val_accuracy: 0.7966\n",
      "Epoch 11/20\n",
      "352/352 [==============================] - 15s 42ms/step - loss: 0.5568 - accuracy: 0.8063 - val_loss: 0.6270 - val_accuracy: 0.7714\n",
      "Epoch 12/20\n",
      "352/352 [==============================] - 15s 43ms/step - loss: 0.4934 - accuracy: 0.8281 - val_loss: 0.4653 - val_accuracy: 0.8376\n",
      "Epoch 13/20\n",
      "352/352 [==============================] - 15s 44ms/step - loss: 0.4352 - accuracy: 0.8489 - val_loss: 0.3502 - val_accuracy: 0.8804\n",
      "Epoch 14/20\n",
      "352/352 [==============================] - 15s 44ms/step - loss: 0.3826 - accuracy: 0.8666 - val_loss: 0.4972 - val_accuracy: 0.8198\n",
      "Epoch 15/20\n",
      "352/352 [==============================] - 16s 46ms/step - loss: 0.3320 - accuracy: 0.8848 - val_loss: 0.3633 - val_accuracy: 0.8702\n",
      "Epoch 16/20\n",
      "352/352 [==============================] - 17s 47ms/step - loss: 0.2897 - accuracy: 0.8993 - val_loss: 0.1998 - val_accuracy: 0.9326\n",
      "Epoch 17/20\n",
      "352/352 [==============================] - 16s 46ms/step - loss: 0.2492 - accuracy: 0.9131 - val_loss: 0.2412 - val_accuracy: 0.9156\n",
      "Epoch 18/20\n",
      "352/352 [==============================] - 15s 44ms/step - loss: 0.2136 - accuracy: 0.9252 - val_loss: 0.1657 - val_accuracy: 0.9400\n",
      "Epoch 19/20\n",
      "352/352 [==============================] - 16s 45ms/step - loss: 0.1883 - accuracy: 0.9362 - val_loss: 0.1873 - val_accuracy: 0.9326\n",
      "Epoch 20/20\n",
      "352/352 [==============================] - 16s 45ms/step - loss: 0.1588 - accuracy: 0.9458 - val_loss: 0.1243 - val_accuracy: 0.9572\n"
     ]
    }
   ],
   "source": [
    "  # MAKE WHATEVER CHANGES ARE NECESSARY\n",
    "  # TO GET 0.7 ACCURACY ON THE TEST SET\n",
    "\n",
    "model_hist = model.fit(train_images, train_labels,\n",
    "          epochs=20, batch_size=128,\n",
    "            validation_data=(valid_images, valid_labels))\n",
    "# ADD VALIDATION HERE"
   ]
  },
  {
   "cell_type": "code",
   "execution_count": 8,
   "metadata": {
    "colab": {
     "base_uri": "https://localhost:8080/",
     "height": 279
    },
    "id": "AK7GvOCaUwp9",
    "outputId": "72773b05-e49b-42cf-97a0-4b2c3ad719fd"
   },
   "outputs": [
    {
     "data": {
      "image/png": "[encoded data removed]",
      "text/plain": [
       "<Figure size 432x288 with 1 Axes>"
      ]
     },
     "metadata": {
      "needs_background": "light"
     },
     "output_type": "display_data"
    }
   ],
   "source": [
    "import matplotlib.pyplot as plt\n",
    "\n",
    "epochs = range(0, 20)\n",
    "train_loss = model_hist.history['loss']\n",
    "val_loss= model_hist.history['val_loss']\n",
    "\n",
    "plt.plot(epochs, val_loss, 'b+', label='Validation')\n",
    "plt.plot(epochs, train_loss, 'bo', label='training')\n",
    "plt.xlabel('Epochs')\n",
    "plt.ylabel('Validation loss')\n",
    "plt.legend()\n",
    "\n",
    "plt.show()"
   ]
  },
  {
   "cell_type": "code",
   "execution_count": 9,
   "metadata": {
    "colab": {
     "base_uri": "https://localhost:8080/"
    },
    "id": "ZSr5gnDLNRo7",
    "outputId": "839f3bdc-545b-4db4-f201-2c60211ce70d"
   },
   "outputs": [
    {
     "name": "stdout",
     "output_type": "stream",
     "text": [
      "313/313 [==============================] - 1s 5ms/step - loss: 1.3379 - accuracy: 0.7126\n",
      "test_acc: 0.7125999927520752\n"
     ]
    },
    {
     "data": {
      "text/plain": [
       "1.3379497528076172"
      ]
     },
     "execution_count": 9,
     "metadata": {},
     "output_type": "execute_result"
    }
   ],
   "source": [
    "test_loss, test_acc = model.evaluate(test_images, test_labels)\n",
    "print('test_acc:', test_acc)\n",
    "test_loss"
   ]
  },
  {
   "cell_type": "code",
   "execution_count": 10,
   "metadata": {
    "id": "e9SeN6QOO77D"
   },
   "outputs": [],
   "source": [
    "model.save_weights('./cifar10.h5', overwrite=True)"
   ]
  }
 ],
 "metadata": {
  "accelerator": "GPU",
  "colab": {
   "collapsed_sections": [],
   "name": "CIFAR10_without_code.ipynb",
   "provenance": []
  },
  "kernelspec": {
   "display_name": "Python 3",
   "language": "python",
   "name": "python3"
  },
  "language_info": {
   "codemirror_mode": {
    "name": "ipython",
    "version": 3
   },
   "file_extension": ".py",
   "mimetype": "text/x-python",
   "name": "python",
   "nbconvert_exporter": "python",
   "pygments_lexer": "ipython3",
   "version": "3.6.9"
  }
 },
 "nbformat": 4,
 "nbformat_minor": 4
}
