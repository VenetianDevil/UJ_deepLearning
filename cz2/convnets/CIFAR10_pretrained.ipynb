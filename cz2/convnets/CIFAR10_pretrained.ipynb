{
 "cells": [
  {
   "cell_type": "markdown",
   "metadata": {
    "id": "kVclo602PoY0"
   },
   "source": [
    "<h3>  &nbsp;&nbsp;Train on GPU&nbsp;&nbsp; <a href=\"https://cloud.google.com/tpu/\"><img valign=\"middle\" src=\"https://raw.githubusercontent.com/GoogleCloudPlatform/tensorflow-without-a-phd/master/tensorflow-rl-pong/images/tpu-hexagon.png\" width=\"50\"></a></h3>\n",
    "\n",
    "1. On the main menu, click Runtime and select **Change runtime type**. Set \"GPU\" as the hardware accelerator.\n",
    "1. Click Runtime again and select **Runtime > Run All**. You can also run the cells manually with Shift-ENTER. "
   ]
  },
  {
   "cell_type": "code",
   "execution_count": 1,
   "metadata": {
    "colab": {
     "base_uri": "https://localhost:8080/",
     "height": 35
    },
    "id": "Djq5H5QSK6hc",
    "outputId": "9413d72c-3dca-4275-8233-8ffc8e8a27f2"
   },
   "outputs": [
    {
     "data": {
      "text/plain": [
       "'2.6.0'"
      ]
     },
     "execution_count": 1,
     "metadata": {},
     "output_type": "execute_result"
    }
   ],
   "source": [
    "import keras\n",
    "keras.__version__"
   ]
  },
  {
   "cell_type": "code",
   "execution_count": 2,
   "metadata": {
    "id": "cLjbWVSwLRAM"
   },
   "outputs": [],
   "source": [
    "from keras import layers\n",
    "from keras import models\n",
    "import numpy as np\n",
    "from keras.datasets import cifar10\n",
    "from tensorflow.keras.utils import to_categorical\n",
    "\n",
    "(train_images, train_labels), (test_images, test_labels) = cifar10.load_data()"
   ]
  },
  {
   "cell_type": "code",
   "execution_count": 3,
   "metadata": {
    "colab": {
     "base_uri": "https://localhost:8080/",
     "height": 266
    },
    "id": "f1l1_b4FLnAx",
    "outputId": "89d69c3b-2d12-489b-b848-7ca8eb678f2e"
   },
   "outputs": [
    {
     "data": {
      "image/png": "[encoded data removed]",
      "text/plain": [
       "<Figure size 432x288 with 1 Axes>"
      ]
     },
     "metadata": {
      "needs_background": "light"
     },
     "output_type": "display_data"
    }
   ],
   "source": [
    "import matplotlib.pyplot as plt\n",
    "%matplotlib inline\n",
    "\n",
    "digit = train_images[4]\n",
    "plt.imshow(digit, cmap=plt.cm.binary)\n",
    "\n",
    "plt.show()"
   ]
  },
  {
   "cell_type": "code",
   "execution_count": 4,
   "metadata": {
    "tags": []
   },
   "outputs": [
    {
     "name": "stdout",
     "output_type": "stream",
     "text": [
      "Model: \"vgg16\"\n",
      "_________________________________________________________________\n",
      "Layer (type)                 Output Shape              Param #   \n",
      "=================================================================\n",
      "input_1 (InputLayer)         [(None, 32, 32, 3)]       0         \n",
      "_________________________________________________________________\n",
      "block1_conv1 (Conv2D)        (None, 32, 32, 64)        1792      \n",
      "_________________________________________________________________\n",
      "block1_conv2 (Conv2D)        (None, 32, 32, 64)        36928     \n",
      "_________________________________________________________________\n",
      "block1_pool (MaxPooling2D)   (None, 16, 16, 64)        0         \n",
      "_________________________________________________________________\n",
      "block2_conv1 (Conv2D)        (None, 16, 16, 128)       73856     \n",
      "_________________________________________________________________\n",
      "block2_conv2 (Conv2D)        (None, 16, 16, 128)       147584    \n",
      "_________________________________________________________________\n",
      "block2_pool (MaxPooling2D)   (None, 8, 8, 128)         0         \n",
      "_________________________________________________________________\n",
      "block3_conv1 (Conv2D)        (None, 8, 8, 256)         295168    \n",
      "_________________________________________________________________\n",
      "block3_conv2 (Conv2D)        (None, 8, 8, 256)         590080    \n",
      "_________________________________________________________________\n",
      "block3_conv3 (Conv2D)        (None, 8, 8, 256)         590080    \n",
      "_________________________________________________________________\n",
      "block3_pool (MaxPooling2D)   (None, 4, 4, 256)         0         \n",
      "_________________________________________________________________\n",
      "block4_conv1 (Conv2D)        (None, 4, 4, 512)         1180160   \n",
      "_________________________________________________________________\n",
      "block4_conv2 (Conv2D)        (None, 4, 4, 512)         2359808   \n",
      "_________________________________________________________________\n",
      "block4_conv3 (Conv2D)        (None, 4, 4, 512)         2359808   \n",
      "_________________________________________________________________\n",
      "block4_pool (MaxPooling2D)   (None, 2, 2, 512)         0         \n",
      "_________________________________________________________________\n",
      "block5_conv1 (Conv2D)        (None, 2, 2, 512)         2359808   \n",
      "_________________________________________________________________\n",
      "block5_conv2 (Conv2D)        (None, 2, 2, 512)         2359808   \n",
      "_________________________________________________________________\n",
      "block5_conv3 (Conv2D)        (None, 2, 2, 512)         2359808   \n",
      "_________________________________________________________________\n",
      "block5_pool (MaxPooling2D)   (None, 1, 1, 512)         0         \n",
      "=================================================================\n",
      "Total params: 14,714,688\n",
      "Trainable params: 14,714,688\n",
      "Non-trainable params: 0\n",
      "_________________________________________________________________\n"
     ]
    }
   ],
   "source": [
    "from tensorflow.keras.applications import VGG16\n",
    "\n",
    "conv_base = VGG16(weights='imagenet',\n",
    "                  include_top=False,\n",
    "                  input_shape=(32, 32, 3))\n",
    "\n",
    "conv_base.summary()"
   ]
  },
  {
   "cell_type": "code",
   "execution_count": 5,
   "metadata": {
    "id": "76yjbnbJLjsk"
   },
   "outputs": [],
   "source": [
    "train_images = train_images[:45000]\n",
    "train_labels = train_labels[:45000]\n",
    "\n",
    "valid_images = train_images[-5000:]\n",
    "valid_labels = train_labels[-5000:]"
   ]
  },
  {
   "cell_type": "code",
   "execution_count": 6,
   "metadata": {},
   "outputs": [],
   "source": [
    "from keras.preprocessing.image import ImageDataGenerator\n",
    "\n",
    "datagen = ImageDataGenerator(rescale=1./255)\n",
    "batch_size = 20\n",
    "\n",
    "def extract_features(images, labels, sample_count):\n",
    "    features = np.zeros(shape=(sample_count, 1, 1, 512))\n",
    "    labels = np.zeros(shape=(sample_count))\n",
    "    generator = datagen.flow(\n",
    "        images, labels,\n",
    "        batch_size=batch_size)\n",
    "    i = 0\n",
    "    for inputs_batch, labels_batch in generator:\n",
    "        features_batch = conv_base.predict(inputs_batch)\n",
    "        features[i * batch_size : (i + 1) * batch_size] = features_batch\n",
    "        labels[i * batch_size : (i + 1) * batch_size] = labels_batch\n",
    "        i += 1\n",
    "        if i * batch_size >= sample_count:\n",
    "            # Note that since generators yield data indefinitely in a loop,\n",
    "            # we must `break` after every image has been seen once.\n",
    "            break\n",
    "    return features, labels"
   ]
  },
  {
   "cell_type": "code",
   "execution_count": 7,
   "metadata": {
    "tags": []
   },
   "outputs": [],
   "source": [
    "train_features, train_labels = extract_features(train_images, train_labels, 45000)\n",
    "valid_features, valid_labels = extract_features(valid_images, valid_labels, 5000)\n",
    "test_features, test_labels = extract_features(test_images, test_labels, 10000)"
   ]
  },
  {
   "cell_type": "code",
   "execution_count": 8,
   "metadata": {},
   "outputs": [],
   "source": [
    "train_features = np.reshape(train_features, (45000, 1 * 1 * 512))\n",
    "valid_features = np.reshape(valid_features, (5000, 1 * 1 * 512))\n",
    "test_features = np.reshape(test_features, (10000, 1 * 1 * 512))"
   ]
  },
  {
   "cell_type": "code",
   "execution_count": 9,
   "metadata": {
    "id": "rIJilTuvRnDY"
   },
   "outputs": [],
   "source": [
    "  # MAKE WHATEVER CHANGES ARE NECESSARY\n",
    "  # TO GET 0.7 ACCURACY ON THE TEST SET\n",
    "from tensorflow.keras import optimizers\n",
    "\n",
    "model = models.Sequential()\n",
    "model.add(layers.Dense(256, activation='relu', input_dim=1 * 1 * 512))\n",
    "model.add(layers.Dropout(0.5))\n",
    "model.add(layers.Dense(1, activation='sigmoid'))\n",
    "\n",
    "model.compile(optimizer=optimizers.RMSprop(learning_rate=2e-5),\n",
    "                  loss='binary_crossentropy',\n",
    "                  metrics=['accuracy'])"
   ]
  },
  {
   "cell_type": "code",
   "execution_count": 10,
   "metadata": {
    "colab": {
     "base_uri": "https://localhost:8080/"
    },
    "id": "Lr0xkEliYc-6",
    "outputId": "e70b9e52-8bc5-44d3-a2ad-0194a0c75348",
    "tags": []
   },
   "outputs": [
    {
     "name": "stdout",
     "output_type": "stream",
     "text": [
      "Model: \"sequential\"\n",
      "_________________________________________________________________\n",
      "Layer (type)                 Output Shape              Param #   \n",
      "=================================================================\n",
      "dense (Dense)                (None, 256)               131328    \n",
      "_________________________________________________________________\n",
      "dropout (Dropout)            (None, 256)               0         \n",
      "_________________________________________________________________\n",
      "dense_1 (Dense)              (None, 1)                 257       \n",
      "=================================================================\n",
      "Total params: 131,585\n",
      "Trainable params: 131,585\n",
      "Non-trainable params: 0\n",
      "_________________________________________________________________\n"
     ]
    }
   ],
   "source": [
    "model.summary()"
   ]
  },
  {
   "cell_type": "code",
   "execution_count": 11,
   "metadata": {
    "colab": {
     "base_uri": "https://localhost:8080/"
    },
    "id": "pdgz18QPNOVr",
    "outputId": "fa60256b-beab-40ba-9878-9a8df20c1dac",
    "tags": []
   },
   "outputs": [
    {
     "name": "stdout",
     "output_type": "stream",
     "text": [
      "Epoch 1/20\n",
      "2250/2250 [==============================] - 4s 2ms/step - loss: 0.0231 - accuracy: 0.9945 - val_loss: 1.2643e-08 - val_accuracy: 1.0000\n",
      "Epoch 2/20\n",
      "2250/2250 [==============================] - 3s 2ms/step - loss: 2.6025e-08 - accuracy: 1.0000 - val_loss: 1.2570e-09 - val_accuracy: 1.0000\n",
      "Epoch 3/20\n",
      "2250/2250 [==============================] - 4s 2ms/step - loss: 7.5481e-09 - accuracy: 1.0000 - val_loss: 5.1577e-10 - val_accuracy: 1.0000\n",
      "Epoch 4/20\n",
      "2250/2250 [==============================] - 4s 2ms/step - loss: 3.6894e-09 - accuracy: 1.0000 - val_loss: 2.9872e-10 - val_accuracy: 1.0000\n",
      "Epoch 5/20\n",
      "2250/2250 [==============================] - 3s 2ms/step - loss: 2.5795e-09 - accuracy: 1.0000 - val_loss: 2.0313e-10 - val_accuracy: 1.0000\n",
      "Epoch 6/20\n",
      "2250/2250 [==============================] - 4s 2ms/step - loss: 2.1193e-09 - accuracy: 1.0000 - val_loss: 1.4595e-10 - val_accuracy: 1.0000\n",
      "Epoch 7/20\n",
      "2250/2250 [==============================] - 4s 2ms/step - loss: 1.7533e-09 - accuracy: 1.0000 - val_loss: 1.1205e-10 - val_accuracy: 1.0000\n",
      "Epoch 8/20\n",
      "2250/2250 [==============================] - 4s 2ms/step - loss: 1.4534e-09 - accuracy: 1.0000 - val_loss: 9.0200e-11 - val_accuracy: 1.0000\n",
      "Epoch 9/20\n",
      "2250/2250 [==============================] - 4s 2ms/step - loss: 1.1570e-09 - accuracy: 1.0000 - val_loss: 7.5373e-11 - val_accuracy: 1.0000\n",
      "Epoch 10/20\n",
      "2250/2250 [==============================] - 4s 2ms/step - loss: 1.0537e-09 - accuracy: 1.0000 - val_loss: 6.4028e-11 - val_accuracy: 1.0000\n",
      "Epoch 11/20\n",
      "2250/2250 [==============================] - 3s 2ms/step - loss: 7.7808e-10 - accuracy: 1.0000 - val_loss: 5.6035e-11 - val_accuracy: 1.0000\n",
      "Epoch 12/20\n",
      "2250/2250 [==============================] - 4s 2ms/step - loss: 9.6067e-10 - accuracy: 1.0000 - val_loss: 4.8672e-11 - val_accuracy: 1.0000\n",
      "Epoch 13/20\n",
      "2250/2250 [==============================] - 4s 2ms/step - loss: 7.2732e-10 - accuracy: 1.0000 - val_loss: 4.3099e-11 - val_accuracy: 1.0000\n",
      "Epoch 14/20\n",
      "2250/2250 [==============================] - 3s 2ms/step - loss: 5.8590e-10 - accuracy: 1.0000 - val_loss: 3.8909e-11 - val_accuracy: 1.0000\n",
      "Epoch 15/20\n",
      "2250/2250 [==============================] - 4s 2ms/step - loss: 5.4655e-10 - accuracy: 1.0000 - val_loss: 3.5390e-11 - val_accuracy: 1.0000\n",
      "Epoch 16/20\n",
      "2250/2250 [==============================] - 4s 2ms/step - loss: 5.0830e-10 - accuracy: 1.0000 - val_loss: 3.2336e-11 - val_accuracy: 1.0000\n",
      "Epoch 17/20\n",
      "2250/2250 [==============================] - 3s 2ms/step - loss: 5.0371e-10 - accuracy: 1.0000 - val_loss: 2.9694e-11 - val_accuracy: 1.0000\n",
      "Epoch 18/20\n",
      "2250/2250 [==============================] - 4s 2ms/step - loss: 5.1469e-10 - accuracy: 1.0000 - val_loss: 2.7227e-11 - val_accuracy: 1.0000\n",
      "Epoch 19/20\n",
      "2250/2250 [==============================] - 4s 2ms/step - loss: 4.8912e-10 - accuracy: 1.0000 - val_loss: 2.5079e-11 - val_accuracy: 1.0000\n",
      "Epoch 20/20\n",
      "2250/2250 [==============================] - 3s 2ms/step - loss: 3.9433e-10 - accuracy: 1.0000 - val_loss: 2.3368e-11 - val_accuracy: 1.0000\n"
     ]
    }
   ],
   "source": [
    "  # MAKE WHATEVER CHANGES ARE NECESSARY\n",
    "  # TO GET 0.7 ACCURACY ON THE TEST SET\n",
    "\n",
    "model_hist = model.fit(train_features, train_labels,\n",
    "          epochs=20, batch_size=20,\n",
    "            validation_data=(valid_features, valid_labels))\n",
    "# ADD VALIDATION HERE"
   ]
  },
  {
   "cell_type": "code",
   "execution_count": 12,
   "metadata": {
    "colab": {
     "base_uri": "https://localhost:8080/",
     "height": 279
    },
    "id": "AK7GvOCaUwp9",
    "outputId": "72773b05-e49b-42cf-97a0-4b2c3ad719fd"
   },
   "outputs": [
    {
     "data": {
      "image/png": "[encoded data removed]",
      "text/plain": [
       "<Figure size 432x288 with 1 Axes>"
      ]
     },
     "metadata": {
      "needs_background": "light"
     },
     "output_type": "display_data"
    },
    {
     "data": {
      "image/png": "[encoded data removed]",
      "text/plain": [
       "<Figure size 432x288 with 1 Axes>"
      ]
     },
     "metadata": {
      "needs_background": "light"
     },
     "output_type": "display_data"
    }
   ],
   "source": [
    "import matplotlib.pyplot as plt\n",
    "\n",
    "acc = model_hist.history['accuracy']\n",
    "val_acc = model_hist.history['val_accuracy']\n",
    "loss = model_hist.history['loss']\n",
    "val_loss = model_hist.history['val_loss']\n",
    "\n",
    "epochs = range(len(acc))\n",
    "\n",
    "plt.plot(epochs, acc, 'bo', label='Training acc')\n",
    "plt.plot(epochs, val_acc, 'b', label='Validation acc')\n",
    "plt.title('Training and validation accuracy')\n",
    "plt.legend()\n",
    "\n",
    "plt.figure()\n",
    "\n",
    "plt.plot(epochs, loss, 'bo', label='Training loss')\n",
    "plt.plot(epochs, val_loss, 'b', label='Validation loss')\n",
    "plt.title('Training and validation loss')\n",
    "plt.legend()\n",
    "\n",
    "plt.show()"
   ]
  },
  {
   "cell_type": "code",
   "execution_count": 13,
   "metadata": {
    "colab": {
     "base_uri": "https://localhost:8080/"
    },
    "id": "ZSr5gnDLNRo7",
    "outputId": "839f3bdc-545b-4db4-f201-2c60211ce70d"
   },
   "outputs": [
    {
     "name": "stdout",
     "output_type": "stream",
     "text": [
      "313/313 [==============================] - 0s 967us/step - loss: 2.5454e-11 - accuracy: 1.0000\n",
      "test_acc: 1.0\n"
     ]
    },
    {
     "data": {
      "text/plain": [
       "2.545411971477396e-11"
      ]
     },
     "execution_count": 13,
     "metadata": {},
     "output_type": "execute_result"
    }
   ],
   "source": [
    "test_loss, test_acc = model.evaluate(test_features, test_labels)\n",
    "print('test_acc:', test_acc)\n",
    "test_loss"
   ]
  },
  {
   "cell_type": "code",
   "execution_count": 14,
   "metadata": {
    "id": "e9SeN6QOO77D"
   },
   "outputs": [],
   "source": [
    "model.save_weights('./cifar10_pretrained.h5', overwrite=True)"
   ]
  },
  {
   "cell_type": "code",
   "execution_count": null,
   "metadata": {},
   "outputs": [],
   "source": []
  }
 ],
 "metadata": {
  "accelerator": "GPU",
  "colab": {
   "collapsed_sections": [],
   "name": "CIFAR10_without_code.ipynb",
   "provenance": []
  },
  "kernelspec": {
   "display_name": "Python 3",
   "language": "python",
   "name": "python3"
  },
  "language_info": {
   "codemirror_mode": {
    "name": "ipython",
    "version": 3
   },
   "file_extension": ".py",
   "mimetype": "text/x-python",
   "name": "python",
   "nbconvert_exporter": "python",
   "pygments_lexer": "ipython3",
   "version": "3.6.9"
  }
 },
 "nbformat": 4,
 "nbformat_minor": 4
}
